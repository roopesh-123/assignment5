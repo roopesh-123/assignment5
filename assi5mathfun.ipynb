{
  "nbformat": 4,
  "nbformat_minor": 0,
  "metadata": {
    "colab": {
      "name": "assi5mathfun",
      "provenance": []
    },
    "kernelspec": {
      "name": "python3",
      "display_name": "Python 3"
    }
  },
  "cells": [
    {
      "cell_type": "code",
      "metadata": {
        "id": "6HEsdvAMYgb_",
        "colab_type": "code",
        "colab": {
          "base_uri": "https://localhost:8080/",
          "height": 34
        },
        "outputId": "f39af8f6-dc23-4cee-e5d5-9f90f24970cf"
      },
      "source": [
        "import math\n",
        "x=math.sin(60)\n",
        "y=math.cos(math.pi)\n",
        "z=math.tan(90)\n",
        "a=5^8\n",
        "b=math.sqrt(400)\n",
        "c=math.floor(23.56)\n",
        "d=math.ceil(23.56)\n",
        "print(\"x=\",x,\"y=\",y,\"z=\",z,\"a=\",a,\"b=\",b,\"c=\",c,\"d=\",d)"
      ],
      "execution_count": 3,
      "outputs": [
        {
          "output_type": "stream",
          "text": [
            "x= -0.3048106211022167 y= -1.0 z= -1.995200412208242 a= 13 b= 20.0 c= 23 d= 24\n"
          ],
          "name": "stdout"
        }
      ]
    },
    {
      "cell_type": "code",
      "metadata": {
        "id": "M8HVj-JJZStr",
        "colab_type": "code",
        "colab": {}
      },
      "source": [
        ""
      ],
      "execution_count": null,
      "outputs": []
    }
  ]
}